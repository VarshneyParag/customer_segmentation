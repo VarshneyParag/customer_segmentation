{
 "cells": [
  {
   "cell_type": "code",
   "execution_count": null,
   "id": "f7026a83",
   "metadata": {},
   "outputs": [],
   "source": [
    "# Importing libraries\n",
    "import pandas as pd\n",
    "import matplotlib.pyplot as plt\n",
    "import seaborn as sns\n",
    "from sklearn.cluster import KMeans\n",
    "\n",
    "# Load dataset (ensure correct filename if different)\n",
    "df = pd.read_csv(\"customer_data.csv\")\n",
    "\n",
    "# Explore data\n",
    "print(df.head())\n",
    "print(df.info())\n",
    "\n",
    "# Select features for clustering\n",
    "X = df[['Annual Income (k$)', 'Spending Score (1-100)']]\n",
    "\n",
    "# Elbow Method to find optimal clusters\n",
    "inertia = []\n",
    "k_range = range(1, 11)\n",
    "for k in k_range:\n",
    "    kmeans = KMeans(n_clusters=k, random_state=42)\n",
    "    kmeans.fit(X)\n",
    "    inertia.append(kmeans.inertia_)\n",
    "\n",
    "# Plot Elbow Curve\n",
    "plt.figure(figsize=(8, 5))\n",
    "plt.plot(k_range, inertia, marker='o')\n",
    "plt.title('Elbow Method for Optimal K')\n",
    "plt.xlabel('Number of Clusters')\n",
    "plt.ylabel('Inertia')\n",
    "plt.grid(True)\n",
    "plt.savefig(\"elbow_method.png\")\n",
    "plt.show()\n",
    "\n",
    "# Apply KMeans with optimal K (e.g., 5 from elbow)\n",
    "kmeans = KMeans(n_clusters=5, random_state=42)\n",
    "df['Cluster'] = kmeans.fit_predict(X)\n",
    "\n",
    "# Visualize Clusters\n",
    "plt.figure(figsize=(10, 6))\n",
    "sns.scatterplot(\n",
    "    x='Annual Income (k$)', y='Spending Score (1-100)', \n",
    "    hue='Cluster', data=df, palette='Set2', s=100\n",
    ")\n",
    "plt.title(\"Customer Segments\")\n",
    "plt.legend()\n",
    "plt.grid(True)\n",
    "plt.show()\n"
   ]
  }
 ],
 "metadata": {
  "language_info": {
   "name": "python"
  }
 },
 "nbformat": 4,
 "nbformat_minor": 5
}
